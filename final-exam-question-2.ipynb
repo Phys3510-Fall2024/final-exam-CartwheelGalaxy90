{
 "cells": [
  {
   "cell_type": "markdown",
   "id": "8d7c3dcd-5e18-4bfa-a932-da5ec1c22528",
   "metadata": {},
   "source": [
    "## Question 2 (50 points)\n",
    "\n",
    "***This question consists of pseudocode, extracting a frequency numerically, and plotting. Pull code from homework and midterms to optimize your effort.***\n",
    "\n",
    "For the following potential energy for an anharmonic oscillator, we will create a figure that shows the angular frequency, $\\omega$ versus the initial amplitude of the oscillator $Q_0$.\n",
    "\n",
    "### The potential energy (notice the minus sign on the fourth-order term)\n",
    "\n",
    "$$ \\Delta U = \\frac{1}{2} K Q^2 - \\frac{1}{4} D Q^4 + \\frac{1}{6} \\Phi Q^6 $$\n",
    "\n",
    "### Constrained parameters\n",
    "\n",
    "Take $K = 1$, $D=2.4$, $\\Phi=1$, and $M = 1$.\n",
    "\n",
    "### Plotting constraints\n",
    "\n",
    "Plot a range of initial displacements spanning $Q_0 = \\pm 1.7$ (see the representative plot below)\n",
    "\n",
    "### Extracting the angular frequency\n",
    "\n",
    "Recall that in the second midterm and subsequent weeks we developed a strategy for a variant of this problem which used the following steps:\n",
    "\n",
    "1. Solve the differential equation for $Q(t)$ for initial value $Q_0$ (take the initial velocity to be zero);\n",
    "2. Use `ipywidgets` to explore this solution in a figure and extract approximate values of the period $T$ as a function of $Q_0$. We found $T$ by getting the time from peak to peak or valley to valley;\n",
    "3. Interpolate the approximate values of $T$;\n",
    "4. Use in interpolated values of $T$ as a guess for a minima finding algorithm;\n",
    "5. Convert the extracted values of $T$ to angular frequency by $\\omega=\\frac{2\\pi}{T}$.\n",
    "6. To deal with the stationary solutions (e.g. $Q_0 = 0$), we used analytic results for the angular frequency by taking using the formula $\\omega = \\sqrt{\\frac{1}{M}\\frac{d^2\\Delta U}{d Q^2}}$.\n",
    "\n",
    "***This means you should be able to copy and paste most of the code from the midterm and subsequent weeks to optimize your effort***\n",
    "\n",
    "### Steps to construct the plot\n",
    "\n",
    "1. Write pseudocode to set up your strategy (**10 points**);\n",
    "2. Expand your pseudocode to include INPUT, OUTPUT, and TESTS that you could use to program each custom function (**10 points**);\n",
    "3. Write those functions and test them (**10 points**);\n",
    "4. Combine your custom functions for streamlined code and the plot of $\\omega$ versus $Q_0$ (**10 points**);\n",
    "5. Describe the plot in your own words (**10 points**)."
   ]
  },
  {
   "cell_type": "markdown",
   "id": "2b34c8d2-64d2-4981-82a9-a0cf4ce9198b",
   "metadata": {},
   "source": [
    "### Plot of the potential energy"
   ]
  },
  {
   "cell_type": "code",
   "execution_count": 48,
   "id": "a50f8e1e-81f4-4e36-8300-8a11f9d5bc95",
   "metadata": {},
   "outputs": [
    {
     "data": {
      "image/png": "[encoded data removed]",
      "text/plain": [
       "<Figure size 500x400 with 1 Axes>"
      ]
     },
     "metadata": {},
     "output_type": "display_data"
    }
   ],
   "source": [
    "import numpy as np\n",
    "import matplotlib.pyplot as plt\n",
    "\n",
    "# define potential function\n",
    "def potential_energy(Q, K=1.0, D=2.4, Phi=1.0):\n",
    "    return (1/2) * K * Q**2 - (1/4) * D * Q**4 + (1/6) * Phi * Q**6\n",
    "\n",
    "# define mesh for plotting\n",
    "Q_mesh = np.linspace(-2,2,100)\n",
    "U_mesh = potential_energy(Q_mesh)\n",
    "\n",
    "# construct figure\n",
    "plt.figure(figsize=(5, 4))\n",
    "plt.plot(Q_mesh, U_mesh, color='red', linewidth=1.0)\n",
    "plt.xlabel(\"$Q$\")\n",
    "plt.ylabel(\"$\\Delta U$\")\n",
    "plt.xlim(-2,2)\n",
    "plt.ylim(-0.1,0.25)\n",
    "plt.show()"
   ]
  },
  {
   "cell_type": "markdown",
   "id": "cc9843bb-0ea4-4540-816c-cd496a3846c2",
   "metadata": {},
   "source": [
    "$$ \\Delta U = \\frac{1}{2} K Q^2 - \\frac{1}{4} D Q^4 + \\frac{1}{6} \\Phi Q^6 $$"
   ]
  },
  {
   "cell_type": "markdown",
   "id": "8b2a1d0b-1bda-4368-95a3-b1f0ac31c2c8",
   "metadata": {},
   "source": [
    "### Write pseudocode to set up your strategy"
   ]
  },
  {
   "cell_type": "markdown",
   "id": "f4ebb9c2-479e-47e4-b7bd-4ed1398ee666",
   "metadata": {},
   "source": [
    "1. **Define constants**: harmonic constatn $K$, first anharmonic constant $D$, second anharmonic constant $\\Phi$\n",
    "2. **Define potential energy function**\n",
    "3. **Initialize variables**:\n",
    "   - Initial position $Q_0$\n",
    "   - Initial velocity $V_0$ \n",
    "4. **Set up a first-order system of equations** to feed into a differential equation solver:\n",
    "   - Compute the force components using derivatives of the potential:\n",
    "     $$\n",
    "     F_Q = m \\ddot{Q} = - \\frac{dU}{dQ}\n",
    "     $$\n",
    "   - Define a function which takes in positions and velocities and outputs their time derivatives.\n",
    "5. **Use a differential equation solver** to integrate the system over time:\n",
    "   - Pass the function and initial conditions to the solver.\n",
    "6. **Identify peaks**\n",
    "7. **Calculate period**\n",
    "8. **Extract the results for angular frequency**\n",
    "9. **Plot $\\omega$ vs $Q_0$**\n",
    "10. **Explore physics and test code**\n",
    "   - Analyze the results to understand the behavior of the anharmonic oscillator\n",
    "   - Test the code with different initial conditions and parameters"
   ]
  },
  {
   "cell_type": "markdown",
   "id": "cd9add94-7705-4592-8d04-2e5d6df921e8",
   "metadata": {},
   "source": [
    "### Expand your pseudocode to include INPUT, OUTPUT, and TESTS that you could use to program each custom function"
   ]
  },
  {
   "cell_type": "markdown",
   "id": "3837c198-55cd-48c6-9aac-ab29eb425879",
   "metadata": {},
   "source": [
    "### Step 1: Define Constants\n",
    "\n",
    "- Set harmonic constant K (e.g., K = 1.0)\n",
    "- Set first anharmonic constant D (e.g., D = 2.4)\n",
    "- Set second anharmonic constant Phi (e.g., Phi = 1.0)\n",
    "\n",
    "### Step 2: Define Potential Energy Function\n",
    "\n",
    "Function: potential_energy(Q, K, D, Phi)\n",
    "\n",
    "- INPUT:\n",
    "    - Q: Position of the oscillator\n",
    "    - K: Harmonic constant\n",
    "    - D: First anharmonic constant\n",
    "    - Phi: Second anharmonic constant\n",
    "- OUTPUT:\n",
    "    - U: Potential energy\n",
    "- PROCESS:\n",
    "    - Compute $U = \\frac{1}{2} K Q^2 - \\frac{1}{4} D Q^4 + \\frac{1}{6} \\Phi Q^6$\n",
    "- TESTS:\n",
    "    - Test with Q = 0: Expect U = 0.\n",
    "    - Test with Q= 1: Compute manually and verify.\n",
    "    - Test with Q= -1: Compute manually and verify.\n",
    "\n",
    "### Step 3: Initialize Variables\n",
    "\n",
    "- Q_0: Initial position\n",
    "- V_0: Initial velocity\n",
    "\n",
    "### Step 4: Set Up a First-Order System of Equations\n",
    "\n",
    "Function: force(Q, K, D, Phi)\n",
    "\n",
    "- INPUT:\n",
    "    - Q: Position of the oscillator\n",
    "    - K: Harmonic constant\n",
    "    - D: First anharmonic constant\n",
    "    - Phi: Second anharmonic constant\n",
    "- OUTPUT:\n",
    "    - F_Q: Force acting on the oscillator\n",
    "- PROCESS:\n",
    "    - Compute $F_Q = -(K Q - D Q^3 + \\Phi Q^5)$\n",
    "- TESTS:\n",
    "    - Test with Q = 0: Expect F_Q = 0.\n",
    "    - Test with Q = 1: Compute manually and verify.\n",
    "    - Test with Q = -1: Compute manually and verify.\n",
    "\n",
    "Function: dynamics(t, y, K, D, Phi, M)\n",
    "\n",
    "- INPUT:\n",
    "    - t: Time (not used in computation but required by solvers)\n",
    "    - y: Array containing position Q and velocity V\n",
    "    - K: Harmonic constant\n",
    "    - D: First anharmonic constant\n",
    "    - Phi: Second anharmonic constant\n",
    "    - M: Mass of the oscillator\n",
    "- OUTPUT:\n",
    "    - dy/dt: Array containing derivatives [dQ/dt, dV/dt]$\n",
    "- PROCESS:\n",
    "    - Extract Q and V from y.\n",
    "    - Compute dQ/dt = V.\n",
    "    - Compute dV/dt = force(Q, K, D, Phi) / M\n",
    "- TESTS:\n",
    "    - Test with y = [0, 0]: Expect [0, 0]\n",
    "    - Test with y = [1, 0]: Compute manually and verify.\n",
    "    - Test with y = [0, 1]: Compute manually and verify.\n",
    "\n",
    "### Step 5: Use a Differential Equation Solver\n",
    "\n",
    "Function: solve_oscillator(Q_0_range, V_0, t_span, K, D, Phi, M)\n",
    "\n",
    "- INPUT:\n",
    "    - Q_0_range: Range of initial displacements\n",
    "    - V_0: Initial velocity\n",
    "    - t_span: Time span for integration\n",
    "    - K: Harmonic constant\n",
    "    - D: First anharmonic constant\n",
    "    - Phi: Second anharmonic constant\n",
    "    - M: Mass of the oscillator\n",
    "- OUTPUT:\n",
    "    - results: Solutions for each initial condition\n",
    "- PROCESS:\n",
    "    - For each Q_0 in Q_0_range:\n",
    "    - Set initial conditions y0 = [Q_0, V_0]\n",
    "    - Use a numerical solver to integrate dynamics over t_span.\n",
    "    - Store the result.\n",
    "- TESTS:\n",
    "    - Test with Q_0_range = [-1.7, 0, 1.7], V_0 = 0, t_span = [0, 10].\n",
    "    - Verify that the results are consistent with expected physical behavior.\n",
    "\n",
    "### Step 6: Identify Peaks\n",
    "\n",
    "Function: identify_peaks(results)\n",
    "\n",
    "- INPUT:\n",
    "    - results: Solutions from the solver\n",
    "- OUTPUT:\n",
    "    - peaks: List of peak positions\n",
    "- PROCESS:\n",
    "    - Analyze results to find local maxima.\n",
    "- TESTS:\n",
    "    - Test with known oscillatory data: Verify peak identification.\n",
    "\n",
    "### Step 7: Calculate the Period T\n",
    "\n",
    "Function: calculate_period(peaks)\n",
    "\n",
    "- INPUT:\n",
    "    - peaks: List of peak positions\n",
    "- OUTPUT:\n",
    "    - period (T): Time between peaks\n",
    "- PROCESS:\n",
    "    - Compute the time difference between consecutive peaks.\n",
    "- TESTS:\n",
    "    - Test with evenly spaced peaks: Verify period calculation.\n",
    "\n",
    "### Step 8: Extract Results for Angular Frequency\n",
    "\n",
    "Function: extract_angular_frequency(period)\n",
    "\n",
    "- INPUT:\n",
    "    - period (T): Time between peaks\n",
    "- OUTPUT:\n",
    "    - $\\omega$: Angular frequency\n",
    "- PROCESS:\n",
    "    - Compute $\\omega = \\frac{2 \\pi}{T}$\n",
    "- TESTS:\n",
    "    - Test with known period: Verify angular frequency calculation.\n",
    "\n",
    "### Step 9: Plot $Q_0$ vs $\\omega$\n",
    "\n",
    "Function: plot_results(Q_0_range, omega)\n",
    "\n",
    "- INPUT:\n",
    "    - Q_0_range: Range of initial displacements\n",
    "    - omega: Angular frequencies\n",
    "- OUTPUT:\n",
    "    - Plot of $\\omega$ vs $Q_0$\n",
    "- PROCESS:\n",
    "    - Use a plotting library to create the plot.\n",
    "- TESTS:\n",
    "    - Verify plot visually with expected trends.\n",
    "\n",
    "### Step 10: Explore Physics and Test Code\n",
    "\n",
    "- Analyze the behavior of the anharmonic oscillator.\n",
    "- Test with different initial conditions and parameters.\n",
    "- Test with varying parameters: Verify physical behavior."
   ]
  },
  {
   "cell_type": "markdown",
   "id": "ba590903-f0d3-4940-964c-ee52d0569dd4",
   "metadata": {},
   "source": [
    "## Write the functions and test them "
   ]
  },
  {
   "cell_type": "code",
   "execution_count": 49,
   "id": "20bf29b0-8fb1-4369-8436-cdd4f66894ac",
   "metadata": {},
   "outputs": [],
   "source": [
    "# Import necessary libraries\n",
    "import numpy as np\n",
    "import matplotlib.pyplot as plt\n",
    "from scipy.integrate import solve_ivp\n",
    "from scipy.signal import find_peaks\n",
    "\n",
    "# Define constants\n",
    "K = 1.0\n",
    "D = 2.4\n",
    "Phi = 1.0\n",
    "M = 1.0 # Mass of the oscillator"
   ]
  },
  {
   "cell_type": "markdown",
   "id": "8fc25cc1-2c81-4190-8e0f-d675929acb98",
   "metadata": {},
   "source": [
    "### Potential Energy Function"
   ]
  },
  {
   "cell_type": "code",
   "execution_count": 50,
   "id": "c75bd1fa-de84-4686-bd2d-27266ceda641",
   "metadata": {},
   "outputs": [
    {
     "name": "stdout",
     "output_type": "stream",
     "text": [
      "0.0\n",
      "0.06666666666666668\n",
      "0.06666666666666668\n"
     ]
    }
   ],
   "source": [
    "# Define the potential energy function\n",
    "def potential_energy(Q, K=1.0, D=2.4, Phi=1.0):\n",
    "    \"\"\"\n",
    "    Calculate the potential energy U for a given position Q.\n",
    "    \n",
    "    Parameters:\n",
    "    Q (float): Position of the oscillator\n",
    "    K (float): Harmonic constant\n",
    "    D (float): First anharmonic constant\n",
    "    Phi (float): Second anharmonic constant\n",
    "    \n",
    "    Returns:\n",
    "    float: Potential energy U\n",
    "    \"\"\"\n",
    "    U = (1/2) * K * Q**2 - (1/4) * D * Q**4 + (1/6) * Phi * Q**6\n",
    "    return U\n",
    "\n",
    "# Test cases\n",
    "print(potential_energy(0, 1.0, 2.4, 1.0)) # Expected: 0\n",
    "print(potential_energy(1, 1.0, 2.4, 1.0)) # Expected: 0.0667\n",
    "print(potential_energy(-1, 1.0, 2.4, 1.0)) # Expected: 0.0667"
   ]
  },
  {
   "cell_type": "markdown",
   "id": "0947ffaf-37a1-45a5-b21b-c01ecf01d51a",
   "metadata": {},
   "source": [
    "### Force Function"
   ]
  },
  {
   "cell_type": "code",
   "execution_count": 51,
   "id": "5d9e7984-ece6-4196-b3e5-8ef444a623de",
   "metadata": {},
   "outputs": [
    {
     "name": "stdout",
     "output_type": "stream",
     "text": [
      "-0.0\n",
      "0.3999999999999999\n",
      "-0.3999999999999999\n"
     ]
    }
   ],
   "source": [
    "#Define force function\n",
    "def force(Q, K, D, Phi):\n",
    "    \"\"\"\n",
    "    Calculate the force F_Q for a given position Q.\n",
    "    \n",
    "    Parameters:\n",
    "    Q (float): Position of the oscillator\n",
    "    K (float): Harmonic constant\n",
    "    D (float): First anharmonic constant\n",
    "    Phi (float): Second anharmonic constant\n",
    "    \n",
    "    Returns:\n",
    "    float: Force F_Q\n",
    "    \"\"\"\n",
    "    F_Q = -(K * Q - D * Q**3 + Phi * Q**5)\n",
    "    return F_Q\n",
    "\n",
    "# Test cases\n",
    "print(force(0, 1.0, 2.4, 1.0)) # Expected: 0\n",
    "print(force(1, 1.0, 2.4, 1.0)) # Expected: 0.4\n",
    "print(force(-1, 1.0, 2.4, 1.0)) # Expected: -0.4"
   ]
  },
  {
   "cell_type": "markdown",
   "id": "daa666f1-3f32-4404-8376-56c1b1e5f922",
   "metadata": {},
   "source": [
    "### Dynamics Function"
   ]
  },
  {
   "cell_type": "code",
   "execution_count": 52,
   "id": "4c49f68c-6a9b-4d2a-88da-369035e6ada8",
   "metadata": {},
   "outputs": [
    {
     "name": "stdout",
     "output_type": "stream",
     "text": [
      "[0, -0.0]\n",
      "[0, 0.3999999999999999]\n",
      "[1, -0.0]\n"
     ]
    }
   ],
   "source": [
    "def dynamics(t, y, K, D, Phi, M):\n",
    "    \"\"\"\n",
    "    Calculate the derivatives [dQ/dt, dV/dt] for the system.\n",
    "    \n",
    "    Parameters:\n",
    "    t (float): Time (not used in computation but required by solvers)\n",
    "    y (array): Array containing position Q and velocity V\n",
    "    K (float): Harmonic constant\n",
    "    D (float): First anharmonic constant\n",
    "    Phi (float): Second anharmonic constant\n",
    "    M (float): Mass of the oscillator\n",
    "    \n",
    "    Returns:\n",
    "    array: Derivatives [dQ/dt, dV/dt]\n",
    "    \"\"\"\n",
    "    Q, V = y\n",
    "    dQdt = V\n",
    "    dVdt = force(Q, K, D, Phi) / M\n",
    "    return [dQdt, dVdt]\n",
    "\n",
    "# Test cases\n",
    "print(dynamics(0, [0, 0], 1.0, 2.4, 1.0, 1)) # Expected: [0, 0]\n",
    "print(dynamics(0, [1, 0], 1.0, 2.4, 1.0, 1)) # Expected: [0, 0.4]\n",
    "print(dynamics(0, [0, 1], 1.0, 2.4, 1.0, 1)) # Expected: [1, 0]"
   ]
  },
  {
   "cell_type": "markdown",
   "id": "01a3a067-9841-4a74-9626-d10baf371207",
   "metadata": {},
   "source": [
    "### Solve Differential Equation Function"
   ]
  },
  {
   "cell_type": "code",
   "execution_count": 53,
   "id": "34ea9dbc-750d-4186-b693-e1f8424d6c9e",
   "metadata": {},
   "outputs": [
    {
     "name": "stdout",
     "output_type": "stream",
     "text": [
      "[  message: The solver successfully reached the end of the integration interval.\n",
      "  success: True\n",
      "   status: 0\n",
      "        t: [ 0.000e+00  2.433e-04 ...  9.358e+00  1.000e+01]\n",
      "        y: [[-1.700e+00 -1.700e+00 ... -5.557e-01  3.185e-02]\n",
      "            [ 0.000e+00  9.994e-04 ...  8.450e-01  9.579e-01]]\n",
      "      sol: None\n",
      " t_events: None\n",
      " y_events: None\n",
      "     nfev: 194\n",
      "     njev: 0\n",
      "      nlu: 0,   message: The solver successfully reached the end of the integration interval.\n",
      "  success: True\n",
      "   status: 0\n",
      "        t: [ 0.000e+00  1.000e-06  1.100e-05  1.110e-04  1.111e-03\n",
      "             1.111e-02  1.111e-01  1.111e+00  1.000e+01]\n",
      "        y: [[ 0.000e+00  0.000e+00 ...  0.000e+00  0.000e+00]\n",
      "            [ 0.000e+00  0.000e+00 ...  0.000e+00  0.000e+00]]\n",
      "      sol: None\n",
      " t_events: None\n",
      " y_events: None\n",
      "     nfev: 50\n",
      "     njev: 0\n",
      "      nlu: 0,   message: The solver successfully reached the end of the integration interval.\n",
      "  success: True\n",
      "   status: 0\n",
      "        t: [ 0.000e+00  2.433e-04 ...  9.358e+00  1.000e+01]\n",
      "        y: [[ 1.700e+00  1.700e+00 ...  5.557e-01 -3.185e-02]\n",
      "            [ 0.000e+00 -9.994e-04 ... -8.450e-01 -9.579e-01]]\n",
      "      sol: None\n",
      " t_events: None\n",
      " y_events: None\n",
      "     nfev: 194\n",
      "     njev: 0\n",
      "      nlu: 0]\n"
     ]
    }
   ],
   "source": [
    "def solve_oscillator(Q_0_range, V_0, t_span, K, D, Phi, M):\n",
    "    \"\"\"\n",
    "    Solve the oscillator's motion for a range of initial displacements.\n",
    "    \n",
    "    Parameters:\n",
    "    Q_0_range (list): Range of initial displacements\n",
    "    V_0 (float): Initial velocity\n",
    "    t_span (tuple): Time span for integration\n",
    "    K (float): Harmonic constant\n",
    "    D (float): First anharmonic constant\n",
    "    Phi (float): Second anharmonic constant\n",
    "    M (float): Mass of the oscillator\n",
    "    \n",
    "    Returns:\n",
    "    list: Solutions for each initial condition\n",
    "    \"\"\"\n",
    "    results = []\n",
    "    for Q_0 in Q_0_range:\n",
    "        y0 = [Q_0, V_0]\n",
    "        sol = solve_ivp(dynamics, t_span, y0, args=(K, D, Phi, M), method='RK45')\n",
    "        results.append(sol)\n",
    "    return results\n",
    "\n",
    "# Test case\n",
    "results = solve_oscillator([-1.7, 0, 1.7], 0, (0, 10), 1.0, 2.4, 1.0, 1)\n",
    "print(results) # Check if results are returned"
   ]
  },
  {
   "cell_type": "markdown",
   "id": "e5be31d1-9676-4412-81fe-c566d278075e",
   "metadata": {},
   "source": [
    "### Indentify Peaks Function"
   ]
  },
  {
   "cell_type": "code",
   "execution_count": 54,
   "id": "d83bfd6b-c6c3-4493-bec6-e432d2f5f622",
   "metadata": {},
   "outputs": [
    {
     "name": "stdout",
     "output_type": "stream",
     "text": [
      "[array([1, 5, 9])]\n"
     ]
    }
   ],
   "source": [
    "import numpy as np\n",
    "from scipy.signal import find_peaks\n",
    "\n",
    "def identify_peaks(results):\n",
    "    \"\"\"\n",
    "    Identify peaks in the oscillator's motion.\n",
    "    \n",
    "    Parameters:\n",
    "    results (list): Solutions from the solver\n",
    "    \n",
    "    Returns:\n",
    "    list: List of peak positions\n",
    "    \"\"\"\n",
    "    peaks = []\n",
    "    for sol in results:\n",
    "        Q = sol.y[0] # Extract position data\n",
    "        peak_indices, _ = find_peaks(Q)\n",
    "        peaks.append(sol.t[peak_indices]) # Store time of peaks\n",
    "    return peaks\n",
    "\n",
    "# Simulating results to test peaks, periods and angular frequency function\n",
    "from scipy.integrate import OdeSolution\n",
    "\n",
    "# Simulate a simple result object similar to what solve_ivp would return\n",
    "class SimpleSolution:\n",
    "    def __init__(self, t, y):\n",
    "        self.t = t\n",
    "        self.y = y\n",
    "\n",
    "# Create example results\n",
    "example_results = [\n",
    "SimpleSolution(\n",
    "t=np.array([0, 1, 2, 3, 4, 5, 6, 7, 8, 9, 10]),\n",
    "y=np.array([[0, 1, 0, -1, 0, 1, 0, -1, 0, 1, 0]])\n",
    ")\n",
    "]\n",
    "\n",
    "# Test the identify_peaks function\n",
    "example_peaks = identify_peaks(example_results)\n",
    "print(example_peaks) # Expected output: [array([1, 5, 9])]"
   ]
  },
  {
   "cell_type": "markdown",
   "id": "ecf47506-06a4-4d36-b4be-c3ad1b8d5418",
   "metadata": {},
   "source": [
    "### Period Calculation Function"
   ]
  },
  {
   "cell_type": "code",
   "execution_count": 55,
   "id": "bb84b608-73c2-4f9f-a99e-cc7db475e214",
   "metadata": {},
   "outputs": [
    {
     "name": "stdout",
     "output_type": "stream",
     "text": [
      "[np.float64(4.0)]\n"
     ]
    }
   ],
   "source": [
    "def calculate_period(peaks):\n",
    "    \"\"\"\n",
    "    Calculate the period T from the list of peak positions.\n",
    "    \n",
    "    Parameters:\n",
    "    peaks (list): List of peak positions\n",
    "    \n",
    "    Returns:\n",
    "    list: Periods for each set of peaks\n",
    "    \"\"\"\n",
    "    periods = []\n",
    "    for peak_times in peaks:\n",
    "        if len(peak_times) > 1:\n",
    "            T = np.diff(peak_times).mean() # Average time difference between peaks\n",
    "            periods.append(T)\n",
    "    return periods\n",
    "\n",
    "# Test case\n",
    "periods = calculate_period(example_peaks)\n",
    "print(periods) # Check if periods are calculated; expected period to be 4"
   ]
  },
  {
   "cell_type": "markdown",
   "id": "74caf531-eb23-4a57-9899-fb9a7da3bef7",
   "metadata": {},
   "source": [
    "### Extraction of Angular Frequency Function"
   ]
  },
  {
   "cell_type": "code",
   "execution_count": 56,
   "id": "8e1e11b2-f102-4ab7-950f-a983fd03331d",
   "metadata": {},
   "outputs": [
    {
     "name": "stdout",
     "output_type": "stream",
     "text": [
      "[np.float64(1.5707963267948966)]\n"
     ]
    }
   ],
   "source": [
    "def extract_angular_frequency(T):\n",
    "    \"\"\"\n",
    "    Calculate the angular frequency ω from the period T.\n",
    "    \n",
    "    Parameters:\n",
    "    periods (list): List of periods\n",
    "    \n",
    "    Returns:\n",
    "    list: Angular frequencies for each period\n",
    "    \"\"\"\n",
    "    angular_frequencies = [2 * np.pi / T for T in periods]\n",
    "    return angular_frequencies\n",
    "\n",
    "# Test case\n",
    "angular_frequencies = extract_angular_frequency(periods)\n",
    "print(angular_frequencies) # Check if angular frequencies are calculated; expected omega to be around 1.57"
   ]
  },
  {
   "cell_type": "markdown",
   "id": "bcddd47c-1ee9-473d-978f-45459c9fb262",
   "metadata": {},
   "source": [
    "### Combine your custom functions for streamlined code and the plot of $\\omega$ versus $Q_0$"
   ]
  },
  {
   "cell_type": "code",
   "execution_count": 57,
   "id": "2cb04a75-46ff-48c0-adb1-f4f939c3775d",
   "metadata": {},
   "outputs": [
    {
     "data": {
      "image/png": "[encoded data removed]",
      "text/plain": [
       "<Figure size 800x600 with 1 Axes>"
      ]
     },
     "metadata": {},
     "output_type": "display_data"
    }
   ],
   "source": [
    "# Import necessary libraries\n",
    "import numpy as np\n",
    "import matplotlib.pyplot as plt\n",
    "from scipy.integrate import solve_ivp\n",
    "from scipy.signal import find_peaks\n",
    "\n",
    "# Define constants\n",
    "K = 1.0\n",
    "D = 2.4\n",
    "Phi = 1.0\n",
    "\n",
    "# Defined functions (potential_energy, force, dynamics, solve_oscillator, identify_peaks, calculate_period, extract_angular_frequency)\n",
    "\n",
    "# Define the range of initial displacements\n",
    "Q_0_range = np.linspace(-1.7, 1.7, num=50)\n",
    "\n",
    "# Solve the oscillator\n",
    "results = solve_oscillator(Q_0_range, V_0=0, t_span=(0, 100), K=K, D=D, Phi=Phi, M=1.0)\n",
    "\n",
    "# Identify peaks and calculate periods\n",
    "peaks = identify_peaks(results)\n",
    "periods = calculate_period(peaks)\n",
    "\n",
    "# Calculate angular frequencies\n",
    "angular_frequencies = extract_angular_frequency(periods)\n",
    "\n",
    "# Plot the results\n",
    "plt.figure(figsize=(8, 6))\n",
    "plt.plot(Q_0_range, angular_frequencies, marker='o', markersize=4)\n",
    "plt.xlabel('Initial Displacement $Q_0$')\n",
    "plt.ylabel('Angular Frequency $\\omega$')\n",
    "plt.title('Angular Frequency vs Initial Displacement')\n",
    "plt.grid(True)\n",
    "plt.show()"
   ]
  },
  {
   "cell_type": "markdown",
   "id": "101f9c9f-525c-427e-ade9-72e7e8966f67",
   "metadata": {},
   "source": [
    "### Description of the plot"
   ]
  },
  {
   "cell_type": "markdown",
   "id": "c35010a5-d3ca-4ebb-8eeb-889ebeeb4cbe",
   "metadata": {},
   "source": [
    "This plot shows how the angular frequency $\\omega$ changes as the initial displacement $Q_0$ varies. "
   ]
  }
 ],
 "metadata": {
  "kernelspec": {
   "display_name": "Python 3 (ipykernel)",
   "language": "python",
   "name": "python3"
  },
  "language_info": {
   "codemirror_mode": {
    "name": "ipython",
    "version": 3
   },
   "file_extension": ".py",
   "mimetype": "text/x-python",
   "name": "python",
   "nbconvert_exporter": "python",
   "pygments_lexer": "ipython3",
   "version": "3.9.19"
  }
 },
 "nbformat": 4,
 "nbformat_minor": 5
}
